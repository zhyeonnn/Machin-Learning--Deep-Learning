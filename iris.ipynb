{
 "cells": [
  {
   "cell_type": "code",
   "id": "initial_id",
   "metadata": {
    "collapsed": true,
    "ExecuteTime": {
     "end_time": "2025-07-04T00:57:42.549530Z",
     "start_time": "2025-07-04T00:57:42.534597Z"
    }
   },
   "source": [
    "import numpy as np\n",
    "import matplotlib.pyplot as plt\n",
    "import pandas as pd\n",
    "from sklearn import metrics\n",
    "\n",
    "# 열 이름 설정 : 파일안에는 열 이름이 없어야 string으로 인한 오류가 발생하지 않는다.\n",
    "names = ['sepal-length', 'sepal-width', 'petal-length', 'petal-width', 'class']\n",
    "\n",
    "dataset = pd.read_csv(r'C:\\Users\\813-18\\Documents\\sjh\\sjh\\2주차 딥러닝 기초 및 실습_자료\\csv\\iris.csv', names=names)"
   ],
   "outputs": [],
   "execution_count": 43
  },
  {
   "metadata": {
    "ExecuteTime": {
     "end_time": "2025-07-04T00:57:44.043893Z",
     "start_time": "2025-07-04T00:57:44.029693Z"
    }
   },
   "cell_type": "code",
   "source": [
    "print(dataset.head())\n",
    "print(dataset.iloc[:,:-1])"
   ],
   "id": "13d77d20f1c9ed03",
   "outputs": [
    {
     "name": "stdout",
     "output_type": "stream",
     "text": [
      "   sepal-length  sepal-width  petal-length  petal-width   class\n",
      "0           5.1          3.5           1.4          0.2  Setosa\n",
      "1           4.9          3.0           1.4          0.2  Setosa\n",
      "2           4.7          3.2           1.3          0.2  Setosa\n",
      "3           4.6          3.1           1.5          0.2  Setosa\n",
      "4           5.0          3.6           1.4          0.2  Setosa\n",
      "     sepal-length  sepal-width  petal-length  petal-width\n",
      "0             5.1          3.5           1.4          0.2\n",
      "1             4.9          3.0           1.4          0.2\n",
      "2             4.7          3.2           1.3          0.2\n",
      "3             4.6          3.1           1.5          0.2\n",
      "4             5.0          3.6           1.4          0.2\n",
      "..            ...          ...           ...          ...\n",
      "145           6.7          3.0           5.2          2.3\n",
      "146           6.3          2.5           5.0          1.9\n",
      "147           6.5          3.0           5.2          2.0\n",
      "148           6.2          3.4           5.4          2.3\n",
      "149           5.9          3.0           5.1          1.8\n",
      "\n",
      "[150 rows x 4 columns]\n"
     ]
    }
   ],
   "execution_count": 44
  },
  {
   "metadata": {
    "ExecuteTime": {
     "end_time": "2025-07-04T00:58:07.308653Z",
     "start_time": "2025-07-04T00:58:07.301572Z"
    }
   },
   "cell_type": "code",
   "source": [
    "# 훈련과 검증 데이터셋 분리\n",
    "\n",
    "X = dataset.iloc[:,:-1].values # 맨 뒤 1열 빼고 가져옴 = int\n",
    "y = dataset.iloc[:,4].values # 맨 앞부터 4번째 열만 가져옴 = str\n",
    "# iloc[행],[열]\n",
    "\n",
    "from sklearn.model_selection import train_test_split\n",
    "X_train,X_test, y_train, y_test = train_test_split(X,y,test_size = 0.20)\n",
    "# train_test_split : 훈련과 검증으로 분리할 것\n",
    "#test_size : 훈련과 검증을 몇 퍼센트로 나눌것인지, test = 검증\n",
    "\n",
    "from sklearn.preprocessing import StandardScaler\n",
    "s = StandardScaler() #특성 스케일링\n",
    "# 스케일링은 상대적인 데이터간의 격차를 줄여주는 것\n",
    "# 상대적으로 숫자가 너무 작을 경우에 값이 표현이 안 되기 때문에 0와 1사이로 정해서 최대와 최소값을 정한다.\n",
    "s.fit(X_train) # 학습 데이터 기준 평균, 표준편차 계산?? - 다시 알아보기 ★\n",
    "# 평균이 0, 표준편차가 1이 되도록 변환\n",
    "X_train = s.transform(X_train)\n",
    "X_test = s.transform(X_test)"
   ],
   "id": "3806ed4f381cda9b",
   "outputs": [],
   "execution_count": 48
  },
  {
   "metadata": {
    "ExecuteTime": {
     "end_time": "2025-07-04T01:08:44.401309Z",
     "start_time": "2025-07-04T01:08:44.391874Z"
    }
   },
   "cell_type": "code",
   "source": [
    "# 모델 생성 및 훈련\n",
    "\n",
    "from sklearn.neighbors import KNeighborsClassifier\n",
    "# k=50인 k-최근접 이웃 모델 생성\n",
    "# k = 50은 거리상 가장 가까운 데이터 50개를 선택하여 50개중에 가장 많은 데이터 분류로 할당됨\n",
    "knn = KNeighborsClassifier(n_neighbors=50)\n",
    "knn.fit(X_train,y_train) # 모델 훈련\n",
    "print(knn.score(X_train,y_train)) # --> 이게 뭐에 대한 출력이지?"
   ],
   "id": "b892da633e74a50d",
   "outputs": [
    {
     "name": "stdout",
     "output_type": "stream",
     "text": [
      "0.85\n"
     ]
    }
   ],
   "execution_count": 56
  },
  {
   "metadata": {
    "ExecuteTime": {
     "end_time": "2025-07-04T01:08:45.855899Z",
     "start_time": "2025-07-04T01:08:45.849738Z"
    }
   },
   "cell_type": "code",
   "source": [
    "# 모델 정확도\n",
    "\n",
    "from sklearn.metrics import accuracy_score\n",
    "#predict() ★\n",
    "y_pred = knn.predict(X_test)\n",
    "print(\"정확도: {}\".format(accuracy_score(y_test, y_pred)))"
   ],
   "id": "79998698616640f6",
   "outputs": [
    {
     "name": "stdout",
     "output_type": "stream",
     "text": [
      "정확도: 0.9333333333333333\n"
     ]
    }
   ],
   "execution_count": 57
  },
  {
   "metadata": {
    "ExecuteTime": {
     "end_time": "2025-07-04T02:24:25.733891Z",
     "start_time": "2025-07-04T02:24:25.713786Z"
    }
   },
   "cell_type": "code",
   "source": [
    "# 최적의 K 찾기\n",
    "\n",
    "k = 10\n",
    "acc_array = np.zeros(k)\n",
    "\n",
    "for k in np.arange(1, k+1, 1):\n",
    "    classifier = KNeighborsClassifier(n_neighbors=k).fit(X_train,y_train)\n",
    "    y_pred = classifier.predict(X_test)\n",
    "    print(\"c: \",y_pred)\n",
    "    acc = metrics.accuracy_score(y_test, y_pred)\n",
    "    acc_array[k-1] = acc\n",
    "\n",
    "max_acc = np.amax(acc_array)\n",
    "acc_list = list(acc_array)\n",
    "k = acc_list.index(max_acc)\n",
    "print(\"정확도 : \",max_acc,\"으로 최적의 k는 \",k+1,\"입니다.\")\n",
    "# K=50일 때 정확도가 93%\n",
    "# K=1일 때 정확도가 1(최대)로 100%로 높아졌다. K값에 따라 성능이 달라질 수 있음"
   ],
   "id": "86560fce9f550fcc",
   "outputs": [
    {
     "name": "stdout",
     "output_type": "stream",
     "text": [
      "c:  ['Setosa' 'Setosa' 'Versicolor' 'Virginica' 'Versicolor' 'Virginica'\n",
      " 'Setosa' 'Virginica' 'Virginica' 'Versicolor' 'Virginica' 'Setosa'\n",
      " 'Setosa' 'Versicolor' 'Setosa' 'Setosa' 'Versicolor' 'Setosa' 'Virginica'\n",
      " 'Setosa' 'Versicolor' 'Versicolor' 'Versicolor' 'Setosa' 'Setosa'\n",
      " 'Virginica' 'Setosa' 'Virginica' 'Setosa' 'Versicolor']\n",
      "c:  ['Setosa' 'Setosa' 'Versicolor' 'Virginica' 'Versicolor' 'Versicolor'\n",
      " 'Setosa' 'Virginica' 'Versicolor' 'Versicolor' 'Virginica' 'Setosa'\n",
      " 'Setosa' 'Versicolor' 'Setosa' 'Setosa' 'Versicolor' 'Setosa' 'Virginica'\n",
      " 'Setosa' 'Versicolor' 'Versicolor' 'Versicolor' 'Setosa' 'Setosa'\n",
      " 'Virginica' 'Setosa' 'Virginica' 'Setosa' 'Versicolor']\n",
      "c:  ['Setosa' 'Setosa' 'Versicolor' 'Virginica' 'Versicolor' 'Virginica'\n",
      " 'Setosa' 'Virginica' 'Virginica' 'Versicolor' 'Virginica' 'Setosa'\n",
      " 'Setosa' 'Versicolor' 'Setosa' 'Setosa' 'Versicolor' 'Setosa' 'Virginica'\n",
      " 'Setosa' 'Versicolor' 'Versicolor' 'Versicolor' 'Setosa' 'Setosa'\n",
      " 'Virginica' 'Setosa' 'Virginica' 'Setosa' 'Versicolor']\n",
      "c:  ['Setosa' 'Setosa' 'Versicolor' 'Virginica' 'Versicolor' 'Virginica'\n",
      " 'Setosa' 'Virginica' 'Virginica' 'Versicolor' 'Virginica' 'Setosa'\n",
      " 'Setosa' 'Versicolor' 'Setosa' 'Setosa' 'Versicolor' 'Setosa' 'Virginica'\n",
      " 'Setosa' 'Versicolor' 'Versicolor' 'Versicolor' 'Setosa' 'Setosa'\n",
      " 'Virginica' 'Setosa' 'Virginica' 'Setosa' 'Versicolor']\n",
      "c:  ['Setosa' 'Setosa' 'Versicolor' 'Virginica' 'Versicolor' 'Virginica'\n",
      " 'Setosa' 'Virginica' 'Virginica' 'Versicolor' 'Virginica' 'Setosa'\n",
      " 'Setosa' 'Versicolor' 'Setosa' 'Setosa' 'Versicolor' 'Setosa' 'Virginica'\n",
      " 'Setosa' 'Versicolor' 'Versicolor' 'Versicolor' 'Setosa' 'Setosa'\n",
      " 'Virginica' 'Setosa' 'Virginica' 'Setosa' 'Versicolor']\n",
      "c:  ['Setosa' 'Setosa' 'Versicolor' 'Virginica' 'Versicolor' 'Versicolor'\n",
      " 'Setosa' 'Virginica' 'Virginica' 'Versicolor' 'Virginica' 'Setosa'\n",
      " 'Setosa' 'Versicolor' 'Setosa' 'Setosa' 'Versicolor' 'Setosa' 'Virginica'\n",
      " 'Setosa' 'Versicolor' 'Versicolor' 'Versicolor' 'Setosa' 'Setosa'\n",
      " 'Virginica' 'Setosa' 'Virginica' 'Setosa' 'Versicolor']\n",
      "c:  ['Setosa' 'Setosa' 'Versicolor' 'Virginica' 'Versicolor' 'Virginica'\n",
      " 'Setosa' 'Virginica' 'Virginica' 'Versicolor' 'Virginica' 'Setosa'\n",
      " 'Setosa' 'Versicolor' 'Setosa' 'Setosa' 'Versicolor' 'Setosa' 'Virginica'\n",
      " 'Setosa' 'Versicolor' 'Versicolor' 'Versicolor' 'Setosa' 'Setosa'\n",
      " 'Virginica' 'Setosa' 'Virginica' 'Setosa' 'Versicolor']\n",
      "c:  ['Setosa' 'Setosa' 'Versicolor' 'Virginica' 'Versicolor' 'Virginica'\n",
      " 'Setosa' 'Virginica' 'Virginica' 'Versicolor' 'Virginica' 'Setosa'\n",
      " 'Setosa' 'Versicolor' 'Setosa' 'Setosa' 'Versicolor' 'Setosa' 'Virginica'\n",
      " 'Setosa' 'Versicolor' 'Versicolor' 'Versicolor' 'Setosa' 'Setosa'\n",
      " 'Virginica' 'Setosa' 'Virginica' 'Setosa' 'Versicolor']\n",
      "c:  ['Setosa' 'Setosa' 'Versicolor' 'Virginica' 'Versicolor' 'Virginica'\n",
      " 'Setosa' 'Virginica' 'Virginica' 'Versicolor' 'Virginica' 'Setosa'\n",
      " 'Setosa' 'Versicolor' 'Setosa' 'Setosa' 'Versicolor' 'Setosa' 'Virginica'\n",
      " 'Setosa' 'Versicolor' 'Versicolor' 'Versicolor' 'Setosa' 'Setosa'\n",
      " 'Virginica' 'Setosa' 'Virginica' 'Setosa' 'Versicolor']\n",
      "c:  ['Setosa' 'Setosa' 'Versicolor' 'Virginica' 'Versicolor' 'Virginica'\n",
      " 'Setosa' 'Virginica' 'Virginica' 'Versicolor' 'Virginica' 'Setosa'\n",
      " 'Setosa' 'Versicolor' 'Setosa' 'Setosa' 'Versicolor' 'Setosa' 'Virginica'\n",
      " 'Setosa' 'Versicolor' 'Versicolor' 'Versicolor' 'Setosa' 'Setosa'\n",
      " 'Virginica' 'Setosa' 'Virginica' 'Setosa' 'Versicolor']\n",
      "정확도 :  1.0 으로 최적의 k는  1 입니다.\n"
     ]
    }
   ],
   "execution_count": 64
  }
 ],
 "metadata": {
  "kernelspec": {
   "display_name": "Python 3",
   "language": "python",
   "name": "python3"
  },
  "language_info": {
   "codemirror_mode": {
    "name": "ipython",
    "version": 2
   },
   "file_extension": ".py",
   "mimetype": "text/x-python",
   "name": "python",
   "nbconvert_exporter": "python",
   "pygments_lexer": "ipython2",
   "version": "2.7.6"
  }
 },
 "nbformat": 4,
 "nbformat_minor": 5
}
