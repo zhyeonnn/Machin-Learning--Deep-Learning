{
 "cells": [
  {
   "cell_type": "code",
   "id": "initial_id",
   "metadata": {
    "collapsed": true,
    "ExecuteTime": {
     "end_time": "2025-07-05T09:19:12.350907Z",
     "start_time": "2025-07-05T09:19:11.799903Z"
    }
   },
   "source": [
    "import pandas as pd\n",
    "from keras.src.metrics.metrics_utils import confusion_matrix\n",
    "from optree import tree_all\n",
    "\n",
    "# 라이브러리 호출\n",
    "df = pd.read_csv(r'C:\\Users\\SAMSUNG\\Documents\\sjh\\2주차 딥러닝 기초 및 실습\\train.csv',index_col ='PassengerId')\n",
    "print(df.head())"
   ],
   "outputs": [
    {
     "name": "stdout",
     "output_type": "stream",
     "text": [
      "             Survived  Pclass  \\\n",
      "PassengerId                     \n",
      "1                   0       3   \n",
      "2                   1       1   \n",
      "3                   1       3   \n",
      "4                   1       1   \n",
      "5                   0       3   \n",
      "\n",
      "                                                          Name     Sex   Age  \\\n",
      "PassengerId                                                                    \n",
      "1                                      Braund, Mr. Owen Harris    male  22.0   \n",
      "2            Cumings, Mrs. John Bradley (Florence Briggs Th...  female  38.0   \n",
      "3                                       Heikkinen, Miss. Laina  female  26.0   \n",
      "4                 Futrelle, Mrs. Jacques Heath (Lily May Peel)  female  35.0   \n",
      "5                                     Allen, Mr. William Henry    male  35.0   \n",
      "\n",
      "             SibSp  Parch            Ticket     Fare Cabin Embarked  \n",
      "PassengerId                                                          \n",
      "1                1      0         A/5 21171   7.2500   NaN        S  \n",
      "2                1      0          PC 17599  71.2833   C85        C  \n",
      "3                0      0  STON/O2. 3101282   7.9250   NaN        S  \n",
      "4                1      0            113803  53.1000  C123        S  \n",
      "5                0      0            373450   8.0500   NaN        S  \n"
     ]
    }
   ],
   "execution_count": 40
  },
  {
   "metadata": {
    "ExecuteTime": {
     "end_time": "2025-07-05T09:19:13.662844Z",
     "start_time": "2025-07-05T09:19:13.635633Z"
    }
   },
   "cell_type": "code",
   "source": [
    "#데이터 전처리\n",
    "\n",
    "# 승객의 생존 여부를 예측하려고 필요한 데이터만 넣어서 사용\n",
    "df = df[['Pclass','Sex','Age','SibSp','Parch','Fare','Survived']]\n",
    "# 성별을 정수 값으로 변환\n",
    "df['Sex'] = df['Sex'].map({'male':0,'female':1})\n",
    "# 행중에 값이 없는 데이터행은 삭제(dropna) NA=빈 셀\n",
    "# df = df.dropna() -> dropna하니까 데이터가 남아있지않음\n",
    "# df.dropna()했을 때 데이터가 모두 사라진다면 괄호 안에 직접 열이름을 모두 적어주기\n",
    "df = df.dropna(subset=['Pclass','Sex','Age','SibSp','Parch','Fare','Survived'])\n",
    "# df에서 Survived 열을 제거\n",
    "X = df.drop('Survived',axis = 1)\n",
    "# Survived값을 y에만 넣고 예측 레이블로 사용\n",
    "y = df['Survived']\n",
    "print(X)\n",
    "print('len/ ',len(X))\n",
    "print('y : ',y.values)"
   ],
   "id": "e229b4e5261ce0bb",
   "outputs": [
    {
     "name": "stdout",
     "output_type": "stream",
     "text": [
      "             Pclass  Sex   Age  SibSp  Parch     Fare\n",
      "PassengerId                                          \n",
      "1                 3    0  22.0      1      0   7.2500\n",
      "2                 1    1  38.0      1      0  71.2833\n",
      "3                 3    1  26.0      0      0   7.9250\n",
      "4                 1    1  35.0      1      0  53.1000\n",
      "5                 3    0  35.0      0      0   8.0500\n",
      "...             ...  ...   ...    ...    ...      ...\n",
      "886               3    1  39.0      0      5  29.1250\n",
      "887               2    0  27.0      0      0  13.0000\n",
      "888               1    1  19.0      0      0  30.0000\n",
      "890               1    0  26.0      0      0  30.0000\n",
      "891               3    0  32.0      0      0   7.7500\n",
      "\n",
      "[714 rows x 6 columns]\n",
      "len/  714\n",
      "y :  [0 1 1 1 0 0 0 1 1 1 1 0 0 0 1 0 0 0 1 1 1 0 1 0 0 0 0 0 0 0 1 0 0 1 1 0 0\n",
      " 0 1 1 0 1 0 1 0 0 1 0 0 1 0 1 0 0 0 0 0 1 0 1 1 0 1 0 1 1 0 1 0 0 0 0 0 0\n",
      " 0 1 1 0 0 0 0 0 0 1 0 0 0 0 0 0 0 0 0 0 0 0 0 1 0 1 1 0 0 0 0 1 0 0 1 0 0\n",
      " 0 1 1 0 0 0 1 0 0 0 0 1 0 0 0 1 0 0 1 0 0 0 1 0 0 0 0 1 0 0 0 0 0 0 0 1 1\n",
      " 1 0 0 1 0 1 1 1 1 0 0 0 0 0 1 0 0 1 1 1 0 1 0 0 1 1 0 1 0 1 0 0 1 0 1 0 0\n",
      " 1 0 0 1 0 0 1 0 0 0 0 0 0 0 1 1 0 0 0 0 0 1 1 1 1 1 0 0 0 0 1 1 1 1 1 0 1\n",
      " 0 0 1 0 0 0 1 0 1 0 1 1 1 1 0 0 0 0 0 1 0 1 1 0 1 1 1 0 0 0 1 1 0 1 1 0 0\n",
      " 1 1 1 0 1 1 1 0 0 0 0 1 1 0 1 1 0 0 0 1 1 1 0 0 0 0 0 1 0 0 0 0 0 0 1 1 1\n",
      " 0 0 0 0 1 0 0 0 1 1 0 1 0 0 1 1 1 1 0 1 1 0 0 0 0 1 1 0 0 0 0 0 0 1 0 1 1\n",
      " 1 1 0 0 0 0 0 0 1 1 1 1 1 0 0 1 0 1 0 0 1 0 0 1 1 1 1 1 1 0 0 1 1 0 1 1 0\n",
      " 0 0 0 0 1 0 1 1 0 0 0 0 1 0 0 1 1 1 0 0 1 0 0 0 0 1 0 0 0 0 0 1 0 1 0 1 1\n",
      " 1 1 0 0 1 1 0 1 0 1 0 1 0 0 1 0 0 1 0 1 1 1 0 0 1 0 0 1 0 1 1 0 1 1 0 1 1\n",
      " 1 0 0 0 0 0 1 1 1 1 0 0 1 1 1 1 1 0 0 1 0 1 0 0 1 0 0 0 0 1 1 0 1 0 0 1 1\n",
      " 1 0 0 1 0 0 1 0 0 1 1 0 0 0 0 1 0 1 0 1 0 1 0 0 0 0 1 0 1 1 0 1 1 1 0 0 0\n",
      " 0 0 0 1 0 0 0 1 0 0 0 1 0 0 1 0 0 1 0 1 1 0 0 0 0 0 0 0 1 1 1 0 0 0 0 0 0\n",
      " 1 1 0 0 0 0 1 1 1 1 1 0 0 0 1 1 0 1 0 0 0 1 0 1 0 0 1 0 0 0 0 0 1 0 1 0 1\n",
      " 0 0 1 0 0 1 1 0 0 1 1 0 0 0 1 0 1 1 0 1 0 0 0 0 0 1 0 1 1 1 1 0 0 0 1 0 1\n",
      " 0 0 0 0 1 1 0 0 0 1 1 1 1 0 0 0 0 1 0 0 0 0 0 0 0 0 0 1 1 0 1 0 1 1 1 1 0\n",
      " 0 1 0 1 0 0 1 0 0 0 0 0 0 0 0 1 0 1 1 1 1 0 0 1 0 1 1 0 1 0 1 0 0 1 1 0 0\n",
      " 1 1 0 0 0 0 0 0 1 1 0]\n"
     ]
    }
   ],
   "execution_count": 41
  },
  {
   "metadata": {
    "ExecuteTime": {
     "end_time": "2025-07-05T09:19:26.233655Z",
     "start_time": "2025-07-05T09:19:26.205677Z"
    }
   },
   "cell_type": "code",
   "source": [
    "# 훈련과 검증 데이터셋 분리\n",
    "\n",
    "from sklearn.model_selection import train_test_split\n",
    "X_train,X_test,y_train,y_test = train_test_split(X,y,random_state =1)"
   ],
   "id": "56d2356c26a42ccc",
   "outputs": [],
   "execution_count": 42
  },
  {
   "metadata": {
    "ExecuteTime": {
     "end_time": "2025-07-05T09:19:27.699091Z",
     "start_time": "2025-07-05T09:19:27.693787Z"
    }
   },
   "cell_type": "code",
   "source": [
    "# 결정 트리 모델 생성(사이킷런에서 제공하는 결정 트리 라이브러리)\n",
    "# sklearn.DecisionTreeClassifier\n",
    "\n",
    "from sklearn import tree\n",
    "model = tree.DecisionTreeClassifier()"
   ],
   "id": "78f6e070edaef5ee",
   "outputs": [],
   "execution_count": 43
  },
  {
   "metadata": {
    "ExecuteTime": {
     "end_time": "2025-07-05T09:19:29.884725Z",
     "start_time": "2025-07-05T09:19:29.859380Z"
    }
   },
   "cell_type": "code",
   "source": [
    "# 모델 훈련\n",
    "# fit( ) = 훈련 데이터셋으로 입력 데이터와 정답 데이터를 넣어서 학습시킨다.\n",
    "fit = model.fit(X_train,y_train)\n",
    "print(fit)"
   ],
   "id": "609c1acee445a9c8",
   "outputs": [
    {
     "name": "stdout",
     "output_type": "stream",
     "text": [
      "DecisionTreeClassifier()\n"
     ]
    }
   ],
   "execution_count": 44
  },
  {
   "metadata": {
    "ExecuteTime": {
     "end_time": "2025-07-05T09:19:31.341340Z",
     "start_time": "2025-07-05T09:19:31.329312Z"
    }
   },
   "cell_type": "code",
   "source": [
    "# 모델 예측\n",
    "# predict( ) = fit학습 시킨 상태에서 검증 데이터를 넣어 예측을 시켜본다.\n",
    "# metrics = 결과에 대한 평가(정확도)\n",
    "y_predict = model.predict(X_test)\n",
    "from sklearn.metrics import accuracy_score\n",
    "accuracy_score(y_test, y_predict)\n",
    "# 예측 결과(정확도) : 0.82(80%이상이면 학습이 잘 된것)"
   ],
   "id": "33d83f78aaae90af",
   "outputs": [
    {
     "data": {
      "text/plain": [
       "0.8212290502793296"
      ]
     },
     "execution_count": 45,
     "metadata": {},
     "output_type": "execute_result"
    }
   ],
   "execution_count": 45
  },
  {
   "metadata": {
    "ExecuteTime": {
     "end_time": "2025-07-05T09:24:30.152373Z",
     "start_time": "2025-07-05T09:24:29.506063Z"
    }
   },
   "cell_type": "code",
   "source": [
    "#혼동 행열을 이용한 성능 측정\n",
    "from sklearn.metrics import confusion_matrix\n",
    "pd.DataFrame(confusion_matrix(y_test, y_predict),\n",
    "             columns = ['Predicted Not Survival','Predicted Survival'],\n",
    "             index = ['True Not Survival','True Survival'])\n",
    "\n",
    "# predictN - trueN : 0을 0이라고 예측한 것 (97)\n",
    "# predict - true : 1을 1이라고 예측한 것(50)\n",
    "# predict - trueN : 0을 1이라고 예측(15)\n",
    "# predictN - true : 1을 0으로 예측(17)"
   ],
   "id": "fe81f163b75592c8",
   "outputs": [
    {
     "data": {
      "text/plain": [
       "                   Predicted Not Survival  Predicted Survival\n",
       "True Not Survival                      97                  15\n",
       "True Survival                          17                  50"
      ],
      "text/html": [
       "<div>\n",
       "<style scoped>\n",
       "    .dataframe tbody tr th:only-of-type {\n",
       "        vertical-align: middle;\n",
       "    }\n",
       "\n",
       "    .dataframe tbody tr th {\n",
       "        vertical-align: top;\n",
       "    }\n",
       "\n",
       "    .dataframe thead th {\n",
       "        text-align: right;\n",
       "    }\n",
       "</style>\n",
       "<table border=\"1\" class=\"dataframe\">\n",
       "  <thead>\n",
       "    <tr style=\"text-align: right;\">\n",
       "      <th></th>\n",
       "      <th>Predicted Not Survival</th>\n",
       "      <th>Predicted Survival</th>\n",
       "    </tr>\n",
       "  </thead>\n",
       "  <tbody>\n",
       "    <tr>\n",
       "      <th>True Not Survival</th>\n",
       "      <td>97</td>\n",
       "      <td>15</td>\n",
       "    </tr>\n",
       "    <tr>\n",
       "      <th>True Survival</th>\n",
       "      <td>17</td>\n",
       "      <td>50</td>\n",
       "    </tr>\n",
       "  </tbody>\n",
       "</table>\n",
       "</div>"
      ]
     },
     "execution_count": 46,
     "metadata": {},
     "output_type": "execute_result"
    }
   ],
   "execution_count": 46
  }
 ],
 "metadata": {
  "kernelspec": {
   "display_name": "Python 3",
   "language": "python",
   "name": "python3"
  },
  "language_info": {
   "codemirror_mode": {
    "name": "ipython",
    "version": 2
   },
   "file_extension": ".py",
   "mimetype": "text/x-python",
   "name": "python",
   "nbconvert_exporter": "python",
   "pygments_lexer": "ipython2",
   "version": "2.7.6"
  }
 },
 "nbformat": 4,
 "nbformat_minor": 5
}
